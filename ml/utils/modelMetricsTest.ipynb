{
 "cells": [
  {
   "cell_type": "code",
   "execution_count": null,
   "metadata": {},
   "outputs": [],
   "source": [
    "import pandas as pd\n",
    "import numpy as np\n",
    "\n",
    "# Генерация фальшивых данных\n",
    "def generate_fake_data(num_samples=1000):\n",
    "    np.random.seed(42)\n",
    "    y_true = np.random.randint(0, 2, size=num_samples)  # Истинные значения (0 или 1)\n",
    "    y_pred = np.random.randint(0, 2, size=num_samples)  # Предсказанные значения (0 или 1)\n",
    "    \n",
    "    # Создание DataFrame\n",
    "    data = pd.DataFrame({\n",
    "        'true_label': y_true,\n",
    "        'predicted_label': y_pred\n",
    "    })\n",
    "    \n",
    "    return data\n",
    "\n",
    "fake_data = generate_fake_data()"
   ]
  },
  {
   "cell_type": "code",
   "execution_count": null,
   "metadata": {},
   "outputs": [
    {
     "name": "stdout",
     "output_type": "stream",
     "text": [
      "Precision: 0.6667\n",
      "Recall: 1.0000\n",
      "F1-score: 0.8000\n"
     ]
    }
   ],
   "source": [
    "import numpy as np\n",
    "\n",
    "def calculate_iou(interval_a, interval_b):\n",
    "    start_a, end_a = interval_a\n",
    "    start_b, end_b = interval_b\n",
    "    \n",
    "    intersection = max(0, min(end_a, end_b) - max(start_a, start_b))\n",
    "    union = (end_a - start_a) + (end_b - start_b) - intersection\n",
    "    return intersection / union if union > 0 else 0.0\n",
    "\n",
    "def evaluate_metrics(true_segments, pred_segments, iou_threshold=0.5): #Важный коэф надо покрутить\n",
    "    true_positives = 0\n",
    "    matched_true_indices = set()\n",
    "    \n",
    "    for pred in pred_segments:\n",
    "        best_iou = 0.0\n",
    "        best_true_idx = -1\n",
    "        \n",
    "        for i, true in enumerate(true_segments):\n",
    "            if i in matched_true_indices:\n",
    "                continue\n",
    "                \n",
    "            iou = calculate_iou(pred, true)\n",
    "            if iou > best_iou:\n",
    "                best_iou = iou\n",
    "                best_true_idx = i\n",
    "                \n",
    "        if best_iou >= iou_threshold:\n",
    "            true_positives += 1\n",
    "            matched_true_indices.add(best_true_idx)\n",
    "    \n",
    "    false_positives = len(pred_segments) - true_positives\n",
    "    false_negatives = len(true_segments) - true_positives\n",
    "    \n",
    "    precision = true_positives / (true_positives + false_positives) if (true_positives + false_positives) > 0 else 0.0\n",
    "    recall = true_positives / (true_positives + false_negatives) if (true_positives + false_negatives) > 0 else 0.0\n",
    "    f1_score = 2 * (precision * recall) / (precision + recall) if (precision + recall) > 0 else 0.0\n",
    "    \n",
    "    return {\n",
    "        'Precision': precision,\n",
    "        'Recall': recall,\n",
    "        'F1-score': f1_score,\n",
    "    }\n",
    "\n",
    "# Пример использования\n",
    "true_intervals = [(0, 2), (4, 5)]\n",
    "predicted_intervals = [(0, 2.1), (3.9, 5.2), (6, 7)]  # Последний интервал - ложное срабатывание\n",
    "\n",
    "metrics = evaluate_metrics(true_intervals, predicted_intervals)\n",
    "for metric, value in metrics.items():\n",
    "    print(f\"{metric}: {value:.4f}\")"
   ]
  }
 ],
 "metadata": {
  "kernelspec": {
   "display_name": "Python 3",
   "language": "python",
   "name": "python3"
  },
  "language_info": {
   "codemirror_mode": {
    "name": "ipython",
    "version": 3
   },
   "file_extension": ".py",
   "mimetype": "text/x-python",
   "name": "python",
   "nbconvert_exporter": "python",
   "pygments_lexer": "ipython3",
   "version": "3.10.6"
  }
 },
 "nbformat": 4,
 "nbformat_minor": 2
}
