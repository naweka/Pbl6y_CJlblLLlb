{
 "cells": [
  {
   "cell_type": "code",
   "execution_count": null,
   "metadata": {},
   "outputs": [],
   "source": [
    "import pandas as pd\n",
    "import numpy as np\n",
    "\n",
    "# Генерация фальшивых данных\n",
    "def generate_fake_data(num_samples=1000):\n",
    "    np.random.seed(42)\n",
    "    y_true = np.random.randint(0, 2, size=num_samples)  # Истинные значения (0 или 1)\n",
    "    y_pred = np.random.randint(0, 2, size=num_samples)  # Предсказанные значения (0 или 1)\n",
    "    \n",
    "    # Создание DataFrame\n",
    "    data = pd.DataFrame({\n",
    "        'true_label': y_true,\n",
    "        'predicted_label': y_pred\n",
    "    })\n",
    "    \n",
    "    return data\n",
    "\n",
    "fake_data = generate_fake_data()"
   ]
  },
  {
   "cell_type": "code",
   "execution_count": null,
   "metadata": {},
   "outputs": [
    {
     "name": "stdout",
     "output_type": "stream",
     "text": [
      "Accuracy: 0.50\n",
      "Recall: 0.48\n",
      "F1: 0.49\n"
     ]
    }
   ],
   "source": [
    "import pandas as pd\n",
    "from sklearn.metrics import accuracy_score, recall_score, f1_score\n",
    "\n",
    "data = fake_data\n",
    "\n",
    "# Расчет accuracy и recall\n",
    "accuracy = accuracy_score(data['true_label'], data['predicted_label'])\n",
    "recall = recall_score(data['true_label'], data['predicted_label'])\n",
    "f1 = f1_score(data['true_label'], data['predicted_label'])\n",
    "\n",
    "print(f'Accuracy: {accuracy:.2f}')\n",
    "print(f'Recall: {recall:.2f}')\n",
    "print(f'F1: {f1:.2f}')"
   ]
  }
 ],
 "metadata": {
  "kernelspec": {
   "display_name": "Python 3",
   "language": "python",
   "name": "python3"
  },
  "language_info": {
   "codemirror_mode": {
    "name": "ipython",
    "version": 3
   },
   "file_extension": ".py",
   "mimetype": "text/x-python",
   "name": "python",
   "nbconvert_exporter": "python",
   "pygments_lexer": "ipython3",
   "version": "3.10.6"
  }
 },
 "nbformat": 4,
 "nbformat_minor": 2
}
