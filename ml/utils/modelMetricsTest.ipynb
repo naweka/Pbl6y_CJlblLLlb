{
 "cells": [
  {
   "cell_type": "code",
   "execution_count": 55,
   "metadata": {},
   "outputs": [
    {
     "name": "stdout",
     "output_type": "stream",
     "text": [
      "True intervals (call): [(16.64595, 17.64888), (24.368349, 25.349689), (42.17569, 42.778351), (43.80769, 44.47702), (41.309021, 42.06636), (51.514622, 52.214931), (61.05003, 61.72472), (75.898003, 77.025993), (84.827797, 85.286003), (109.514198, 110.776497), (116.905998, 117.618103), (128.7603, 129.434601), (131.129303, 131.864105), (134.044998, 134.736801), (158.687897, 159.206604), (167.8526, 168.423004), (198.684097, 199.358398), (203.811203, 204.407898), (252.985703, 253.841599), (49.790119, 50.428871), (157.111206, 157.822998), (158.680695, 159.958206), (160.797699, 161.746704), (172.183502, 172.779694), (186.304596, 187.077194), (187.624695, 188.518906), (189.139404, 189.723404), (222.542496, 223.023102), (254.650299, 255.349899), (279.752411, 280.257294)]\n",
      "Detected intervals (call): [(16.5, 18.0), (24.0, 25.5), (41.0, 45.0), (48.5, 50.5), (51.0, 52.5), (60.0, 62.0), (75.5, 77.5), (84.0, 85.5), (92.5, 93.5), (99.0, 100.0), (103.5, 106.0), (109.0, 111.0), (116.5, 118.0), (128.5, 129.5), (130.5, 132.0), (133.5, 135.0), (157.0, 158.0), (158.5, 159.5), (161.0, 162.0), (167.5, 169.0), (172.0, 173.0), (186.0, 190.0), (198.0, 200.0), (203.5, 205.0), (208.0, 209.0), (222.0, 223.5), (237.5, 238.5), (252.5, 255.5), (279.0, 281.0)]\n"
     ]
    }
   ],
   "source": [
    "import pandas as pd\n",
    "import numpy as np\n",
    "\n",
    "def merge_intervals(intervals):\n",
    "    if not intervals:\n",
    "        return []\n",
    "\n",
    "    # Сортировка по начальному времени\n",
    "    intervals.sort(key=lambda x: x[0])\n",
    "    merged = [intervals[0]]\n",
    "\n",
    "    for current in intervals[1:]:\n",
    "        prev_start, prev_end = merged[-1]\n",
    "        curr_start, curr_end = current\n",
    "\n",
    "        # Проверка на перекрытие или соприкосновение\n",
    "        if curr_start <= prev_end:\n",
    "            # Объединяем интервалы\n",
    "            merged[-1] = (prev_start, max(prev_end, curr_end))\n",
    "        else:\n",
    "            merged.append(current)\n",
    "\n",
    "    return merged\n",
    "\n",
    "detections = pd.read_csv('../dataset/detections.csv')\n",
    "detections_call = detections[detections['label'] == 'call']\n",
    "predicted_intervals = merge_intervals(list(zip(detections_call['start_s'], detections_call['end_s'])))\n",
    "\n",
    "# 2. Парсинг true_label.txt вручную\n",
    "true_intervals = []\n",
    "true_intervals = []\n",
    "with open('../dataset/true_label.txt', 'r') as f:\n",
    "    for line in f:\n",
    "        parts = line.strip().split('\\t')\n",
    "        if len(parts) < 2:\n",
    "            continue\n",
    "        start_str = parts[0].replace(',', '.')\n",
    "        end_str = parts[1].replace(',', '.')\n",
    "        start = float(start_str)\n",
    "        end = float(end_str)\n",
    "        true_intervals.append((start, end))\n",
    "\n",
    "# 3 IoU Глобально\n",
    "iou_global = 0.2\n",
    "# Выводим для проверки\n",
    "print(\"True intervals (call):\", true_intervals)\n",
    "print(\"Detected intervals (call):\", predicted_intervals)"
   ]
  },
  {
   "cell_type": "code",
   "execution_count": 56,
   "metadata": {},
   "outputs": [
    {
     "name": "stdout",
     "output_type": "stream",
     "text": [
      "23 7 6\n",
      "Precision: 0.7931\n",
      "Recall: 0.7667\n",
      "F1-score: 0.7797\n",
      "AP50: 0.1711\n",
      "AP75: 0.0000\n",
      "AP50-95: 0.0543\n"
     ]
    }
   ],
   "source": [
    "import numpy as np\n",
    "from tqdm import tqdm\n",
    "\n",
    "def calculate_iou(interval_a, interval_b):\n",
    "    start_a, end_a = interval_a\n",
    "    start_b, end_b = interval_b\n",
    "    \n",
    "    intersection = max(0, min(end_a, end_b) - max(start_a, start_b))\n",
    "    union = (end_a - start_a) + (end_b - start_b) - intersection\n",
    "    return intersection / union if union > 0 else 0.0\n",
    "\n",
    "def calculate_ap(true_segments, pred_segments, iou_thresholds):\n",
    "    aps = []\n",
    "    \n",
    "    for thresh in iou_thresholds:\n",
    "        # Сопоставление предсказаний с истинными интервалами\n",
    "        matched_true = set()\n",
    "        tp = np.zeros(len(pred_segments))\n",
    "        fp = np.zeros(len(pred_segments))\n",
    "        \n",
    "        for i, pred in enumerate(pred_segments):\n",
    "            best_iou = 0.0\n",
    "            best_idx = -1\n",
    "            for j, true in enumerate(true_segments):\n",
    "                if j in matched_true:\n",
    "                    continue\n",
    "                iou = calculate_iou(pred, true)\n",
    "                if iou > best_iou:\n",
    "                    best_iou = iou\n",
    "                    best_idx = j\n",
    "            \n",
    "            if best_iou >= thresh:\n",
    "                matched_true.add(best_idx)\n",
    "                tp[i] = 1\n",
    "            else:\n",
    "                fp[i] = 1\n",
    "\n",
    "        # Рассчитываем precision-recall кривую\n",
    "        tp_cumsum = np.cumsum(tp)\n",
    "        fp_cumsum = np.cumsum(fp)\n",
    "        \n",
    "        recalls = tp_cumsum / len(true_segments)\n",
    "        precisions = tp_cumsum / (tp_cumsum + fp_cumsum + 1e-12)\n",
    "        \n",
    "        # Интерполяция precision для 101 точки\n",
    "        interp_precision = np.zeros(101)\n",
    "        for r in range(101):\n",
    "            precision_vals = precisions[recalls >= r/100]\n",
    "            interp_precision[r] = max(precision_vals) if len(precision_vals) > 0 else 0\n",
    "        \n",
    "        # Вычисляем AP как среднее значение precision\n",
    "        ap = np.mean(interp_precision)\n",
    "        aps.append(ap)\n",
    "    \n",
    "    return aps\n",
    "\n",
    "def evaluate_metrics(true_segments, pred_segments, iou_threshold=iou_global): #Важный коэф надо покрутить\n",
    "    true_positives = 0\n",
    "    matched_true_indices = set()\n",
    "    \n",
    "    for pred in pred_segments:\n",
    "        best_iou = 0.0\n",
    "        best_true_idx = -1\n",
    "        \n",
    "        for i, true in enumerate(true_segments):\n",
    "            if i in matched_true_indices:\n",
    "                continue\n",
    "                \n",
    "            iou = calculate_iou(pred, true)\n",
    "            if iou > best_iou:\n",
    "                best_iou = iou\n",
    "                best_true_idx = i\n",
    "                \n",
    "        if best_iou >= iou_threshold:\n",
    "            true_positives += 1\n",
    "            matched_true_indices.add(best_true_idx)\n",
    "    \n",
    "    false_positives = len(pred_segments) - true_positives\n",
    "    false_negatives = len(true_segments) - true_positives\n",
    "    print(true_positives, false_negatives, false_positives)\n",
    "    precision = true_positives / (true_positives + false_positives) if (true_positives + false_positives) > 0 else 0.0\n",
    "    recall = true_positives / (true_positives + false_negatives) if (true_positives + false_negatives) > 0 else 0.0\n",
    "    f1_score = 2 * (precision * recall) / (precision + recall) if (precision + recall) > 0 else 0.0\n",
    "    \n",
    "    return {\n",
    "        'Precision': precision,\n",
    "        'Recall': recall,\n",
    "        'F1-score': f1_score,\n",
    "        'AP50': calculate_ap(true_segments, pred_segments, [0.5])[0],\n",
    "        'AP75': calculate_ap(true_segments, pred_segments, [0.75])[0],\n",
    "        'AP50-95': np.mean(calculate_ap(true_segments, pred_segments, np.arange(0.5, 1.0, 0.05)))\n",
    "    }\n",
    "\n",
    "# Пример использования\n",
    "\"\"\"\n",
    "true_intervals = [\n",
    "(0.592229  ,1.262479),\n",
    "(7.773479  ,8.491604),\n",
    "(29.272560  ,29.863020),\n",
    "(33.896339  ,34.614460),\n",
    "(36.090611  ,36.593288),\n",
    "(37.319401  ,37.806129),\n",
    "(49.592899  ,50.366879),\n",
    "(51.084999  ,51.866959),\n",
    "(52.304119  ,52.727020),\n",
    "(64.454803  ,65.069199),\n",
    "(66.313957  ,66.872513),\n",
    "(67.590607  ,68.133209),\n",
    "(104.301201  ,105.083199),\n",
    "(111.745796  ,112.288399),\n",
    "(113.694801  ,114.321503)\n",
    "]\n",
    "predicted_intervals = [\n",
    " (0.496, 1.328),\n",
    " (7.834666666666666, 8.802666666666667),\n",
    " (29.24266666666667, 30.466666666666665),\n",
    " (33.91466666666667, 34.909333333333336),\n",
    " (35.89066666666667, 36.792),\n",
    " (37.42133333333334, 37.824),\n",
    " (43.58133333333333, 43.59733333333333),\n",
    " (49.584, 50.42133333333334),\n",
    " (50.99466666666667, 52.925333333333334),\n",
    " (64.39466666666667, 65.02666666666667),\n",
    " (66.344, 68.11733333333333),\n",
    " (104.37333333333333, 105.34933333333333),\n",
    " (111.75733333333334, 112.25333333333333),\n",
    " (113.58666666666667, 114.30133333333333),\n",
    " (115.55733333333333, 115.576)  \n",
    "]\n",
    "\"\"\"\n",
    "metrics = evaluate_metrics(true_intervals, predicted_intervals)\n",
    "for metric, value in metrics.items():\n",
    "    print(f\"{metric}: {value:.4f}\")"
   ]
  },
  {
   "cell_type": "code",
   "execution_count": 57,
   "metadata": {},
   "outputs": [
    {
     "name": "stderr",
     "output_type": "stream",
     "text": [
      "Bootstrapping:   0%|          | 0/1000 [00:00<?, ?it/s]"
     ]
    },
    {
     "name": "stdout",
     "output_type": "stream",
     "text": [
      "15 15 14\n",
      "12 18 17\n",
      "13 17 16\n"
     ]
    },
    {
     "name": "stderr",
     "output_type": "stream",
     "text": [
      "Bootstrapping:   1%|          | 8/1000 [00:00<00:30, 32.96it/s]"
     ]
    },
    {
     "name": "stdout",
     "output_type": "stream",
     "text": [
      "11 19 18\n",
      "10 20 19\n",
      "10 20 19\n",
      "14 16 15\n",
      "9 21 20\n"
     ]
    },
    {
     "name": "stderr",
     "output_type": "stream",
     "text": [
      "Bootstrapping:   1%|          | 12/1000 [00:00<00:29, 33.27it/s]"
     ]
    },
    {
     "name": "stdout",
     "output_type": "stream",
     "text": [
      "7 23 22\n",
      "11 19 18\n",
      "15 15 14\n",
      "11 19 18\n"
     ]
    },
    {
     "name": "stderr",
     "output_type": "stream",
     "text": [
      "Bootstrapping:   2%|▏         | 20/1000 [00:00<00:33, 29.55it/s]"
     ]
    },
    {
     "name": "stdout",
     "output_type": "stream",
     "text": [
      "9 21 20\n",
      "11 19 18\n",
      "11 19 18\n",
      "9 21 20\n",
      "7 23 22\n",
      "15 15 14\n",
      "10 20 19\n",
      "12 18 17\n"
     ]
    },
    {
     "name": "stderr",
     "output_type": "stream",
     "text": [
      "Bootstrapping:   2%|▏         | 23/1000 [00:00<00:43, 22.70it/s]"
     ]
    },
    {
     "name": "stdout",
     "output_type": "stream",
     "text": [
      "8 22 21\n",
      "12 18 17\n",
      "10 20 19\n",
      "12 18 17\n",
      "13 17 16\n"
     ]
    },
    {
     "name": "stderr",
     "output_type": "stream",
     "text": [
      "Bootstrapping:   3%|▎         | 30/1000 [00:01<00:38, 25.01it/s]"
     ]
    },
    {
     "name": "stdout",
     "output_type": "stream",
     "text": [
      "9 21 20\n",
      "9 21 20\n",
      "18 12 11\n",
      "14 16 15\n",
      "10 20 19\n",
      "9 21 20\n",
      "12 18 17\n",
      "9 21 20\n",
      "9 21 20\n",
      "13 17 16\n"
     ]
    },
    {
     "name": "stderr",
     "output_type": "stream",
     "text": [
      "Bootstrapping:   4%|▍         | 39/1000 [00:01<00:40, 23.96it/s]"
     ]
    },
    {
     "name": "stdout",
     "output_type": "stream",
     "text": [
      "14 16 15\n",
      "12 18 17\n",
      "16 14 13\n",
      "11 19 18\n"
     ]
    },
    {
     "name": "stderr",
     "output_type": "stream",
     "text": [
      "Bootstrapping:   4%|▍         | 45/1000 [00:01<00:46, 20.45it/s]"
     ]
    },
    {
     "name": "stdout",
     "output_type": "stream",
     "text": [
      "12 18 17\n",
      "13 17 16\n",
      "13 17 16\n",
      "8 22 21\n",
      "11 19 18\n",
      "13 17 16\n"
     ]
    },
    {
     "name": "stderr",
     "output_type": "stream",
     "text": [
      "Bootstrapping:   5%|▌         | 51/1000 [00:02<00:45, 20.66it/s]"
     ]
    },
    {
     "name": "stdout",
     "output_type": "stream",
     "text": [
      "12 18 17\n",
      "10 20 19\n",
      "10 20 19\n",
      "11 19 18\n",
      "12 18 17\n",
      "12 18 17\n"
     ]
    },
    {
     "name": "stderr",
     "output_type": "stream",
     "text": [
      "Bootstrapping:   6%|▌         | 57/1000 [00:02<00:46, 20.20it/s]"
     ]
    },
    {
     "name": "stdout",
     "output_type": "stream",
     "text": [
      "10 20 19\n",
      "13 17 16\n",
      "13 17 16\n",
      "12 18 17\n",
      "10 20 19\n",
      "17 13 12\n",
      "13 17 16\n",
      "12 18 17\n"
     ]
    },
    {
     "name": "stderr",
     "output_type": "stream",
     "text": [
      "Bootstrapping:   6%|▌         | 60/1000 [00:02<00:46, 20.29it/s]"
     ]
    },
    {
     "name": "stdout",
     "output_type": "stream",
     "text": [
      "9 21 20\n",
      "9 21 20\n",
      "12 18 17\n",
      "12 18 17\n"
     ]
    },
    {
     "name": "stderr",
     "output_type": "stream",
     "text": [
      "Bootstrapping:   7%|▋         | 66/1000 [00:02<00:49, 19.03it/s]"
     ]
    },
    {
     "name": "stdout",
     "output_type": "stream",
     "text": [
      "9 21 20\n",
      "15 15 14\n",
      "13 17 16\n",
      "12 18 17\n",
      "11 19 18\n",
      "12 18 17\n"
     ]
    },
    {
     "name": "stderr",
     "output_type": "stream",
     "text": [
      "Bootstrapping:   7%|▋         | 72/1000 [00:03<00:48, 19.04it/s]"
     ]
    },
    {
     "name": "stdout",
     "output_type": "stream",
     "text": [
      "13 17 16\n",
      "8 22 21\n",
      "13 17 16\n",
      "11 19 18\n",
      "11 19 18\n",
      "9 21 20\n"
     ]
    },
    {
     "name": "stderr",
     "output_type": "stream",
     "text": [
      "Bootstrapping:   8%|▊         | 76/1000 [00:03<00:43, 21.30it/s]"
     ]
    },
    {
     "name": "stdout",
     "output_type": "stream",
     "text": [
      "14 16 15\n",
      "12 18 17\n",
      "11 19 18\n",
      "8 22 21\n"
     ]
    },
    {
     "name": "stderr",
     "output_type": "stream",
     "text": [
      "Bootstrapping:   8%|▊         | 81/1000 [00:03<00:52, 17.61it/s]"
     ]
    },
    {
     "name": "stdout",
     "output_type": "stream",
     "text": [
      "14 16 15\n",
      "12 18 17\n",
      "10 20 19\n",
      "10 20 19\n"
     ]
    },
    {
     "name": "stderr",
     "output_type": "stream",
     "text": [
      "Bootstrapping:   8%|▊         | 85/1000 [00:03<00:54, 16.94it/s]"
     ]
    },
    {
     "name": "stdout",
     "output_type": "stream",
     "text": [
      "9 21 20\n",
      "10 20 19\n",
      "11 19 18\n",
      "12 18 17\n",
      "11 19 18\n"
     ]
    },
    {
     "name": "stderr",
     "output_type": "stream",
     "text": [
      "Bootstrapping:   9%|▉         | 90/1000 [00:04<00:52, 17.25it/s]"
     ]
    },
    {
     "name": "stdout",
     "output_type": "stream",
     "text": [
      "14 16 15\n",
      "11 19 18\n",
      "9 21 20\n",
      "11 19 18\n"
     ]
    },
    {
     "name": "stderr",
     "output_type": "stream",
     "text": [
      "Bootstrapping:  10%|▉         | 97/1000 [00:04<00:46, 19.22it/s]"
     ]
    },
    {
     "name": "stdout",
     "output_type": "stream",
     "text": [
      "11 19 18\n",
      "11 19 18\n",
      "8 22 21\n",
      "14 16 15\n",
      "8 22 21\n",
      "14 16 15\n",
      "12 18 17\n"
     ]
    },
    {
     "name": "stderr",
     "output_type": "stream",
     "text": [
      "Bootstrapping:  10%|█         | 101/1000 [00:04<00:55, 16.16it/s]"
     ]
    },
    {
     "name": "stdout",
     "output_type": "stream",
     "text": [
      "14 16 15\n",
      "14 16 15\n",
      "10 20 19\n",
      "15 15 14\n"
     ]
    },
    {
     "name": "stderr",
     "output_type": "stream",
     "text": [
      "Bootstrapping:  10%|█         | 105/1000 [00:05<00:42, 21.07it/s]"
     ]
    },
    {
     "name": "stdout",
     "output_type": "stream",
     "text": [
      "10 20 19\n",
      "12 18 17\n",
      "12 18 17\n",
      "14 16 15\n",
      "12 18 17\n"
     ]
    },
    {
     "name": "stderr",
     "output_type": "stream",
     "text": [
      "Bootstrapping:  11%|█         | 112/1000 [00:05<00:39, 22.25it/s]"
     ]
    },
    {
     "name": "stdout",
     "output_type": "stream",
     "text": [
      "13 17 16\n",
      "11 19 18\n",
      "12 18 17\n",
      "9 21 20\n",
      "12 18 17\n",
      "14 16 15\n"
     ]
    },
    {
     "name": "stderr",
     "output_type": "stream",
     "text": [
      "Bootstrapping:  12%|█▏        | 119/1000 [00:05<00:39, 22.46it/s]"
     ]
    },
    {
     "name": "stdout",
     "output_type": "stream",
     "text": [
      "17 13 12\n",
      "8 22 21\n",
      "11 19 18\n",
      "12 18 17\n",
      "13 17 16\n"
     ]
    },
    {
     "name": "stderr",
     "output_type": "stream",
     "text": [
      "Bootstrapping:  12%|█▏        | 122/1000 [00:05<00:42, 20.55it/s]"
     ]
    },
    {
     "name": "stdout",
     "output_type": "stream",
     "text": [
      "12 18 17\n",
      "11 19 18\n",
      "12 18 17\n",
      "13 17 16\n",
      "12 18 17\n",
      "10 20 19\n"
     ]
    },
    {
     "name": "stderr",
     "output_type": "stream",
     "text": [
      "Bootstrapping:  13%|█▎        | 128/1000 [00:06<00:45, 19.12it/s]"
     ]
    },
    {
     "name": "stdout",
     "output_type": "stream",
     "text": [
      "13 17 16\n",
      "11 19 18\n",
      "12 18 17\n",
      "12 18 17\n",
      "12 18 17\n"
     ]
    },
    {
     "name": "stderr",
     "output_type": "stream",
     "text": [
      "Bootstrapping:  13%|█▎        | 134/1000 [00:06<00:41, 20.93it/s]"
     ]
    },
    {
     "name": "stdout",
     "output_type": "stream",
     "text": [
      "9 21 20\n",
      "14 16 15\n",
      "14 16 15\n",
      "12 18 17\n",
      "11 19 18\n",
      "12 18 17\n"
     ]
    },
    {
     "name": "stderr",
     "output_type": "stream",
     "text": [
      "Bootstrapping:  14%|█▎        | 137/1000 [00:06<00:45, 18.78it/s]"
     ]
    },
    {
     "name": "stdout",
     "output_type": "stream",
     "text": [
      "13 17 16\n",
      "15 15 14\n",
      "8 22 21\n"
     ]
    },
    {
     "name": "stderr",
     "output_type": "stream",
     "text": [
      "Bootstrapping:  14%|█▍        | 142/1000 [00:06<00:42, 20.07it/s]"
     ]
    },
    {
     "name": "stdout",
     "output_type": "stream",
     "text": [
      "12 18 17\n",
      "13 17 16\n",
      "10 20 19\n",
      "7 23 22\n",
      "10 20 19\n",
      "13 17 16\n"
     ]
    },
    {
     "name": "stderr",
     "output_type": "stream",
     "text": [
      "Bootstrapping:  15%|█▍        | 148/1000 [00:07<00:47, 17.86it/s]"
     ]
    },
    {
     "name": "stdout",
     "output_type": "stream",
     "text": [
      "12 18 17\n",
      "13 17 16\n",
      "10 20 19\n",
      "13 17 16\n",
      "12 18 17\n",
      "8 22 21\n"
     ]
    },
    {
     "name": "stderr",
     "output_type": "stream",
     "text": [
      "Bootstrapping:  15%|█▌        | 152/1000 [00:07<00:38, 21.81it/s]"
     ]
    },
    {
     "name": "stdout",
     "output_type": "stream",
     "text": [
      "9 21 20\n",
      "9 21 20\n",
      "9 21 20\n",
      "9 21 20\n"
     ]
    },
    {
     "name": "stderr",
     "output_type": "stream",
     "text": [
      "Bootstrapping:  16%|█▌        | 158/1000 [00:07<00:42, 19.64it/s]"
     ]
    },
    {
     "name": "stdout",
     "output_type": "stream",
     "text": [
      "8 22 21\n",
      "14 16 15\n",
      "12 18 17\n",
      "13 17 16\n",
      "9 21 20\n",
      "12 18 17\n"
     ]
    },
    {
     "name": "stderr",
     "output_type": "stream",
     "text": [
      "Bootstrapping:  16%|█▋        | 164/1000 [00:08<00:42, 19.59it/s]"
     ]
    },
    {
     "name": "stdout",
     "output_type": "stream",
     "text": [
      "11 19 18\n",
      "7 23 22\n",
      "12 18 17\n",
      "9 21 20\n",
      "14 16 15\n"
     ]
    },
    {
     "name": "stderr",
     "output_type": "stream",
     "text": [
      "Bootstrapping:  17%|█▋        | 167/1000 [00:08<00:46, 17.85it/s]"
     ]
    },
    {
     "name": "stdout",
     "output_type": "stream",
     "text": [
      "13 17 16\n",
      "13 17 16\n",
      "14 16 15\n"
     ]
    },
    {
     "name": "stderr",
     "output_type": "stream",
     "text": [
      "Bootstrapping:  17%|█▋        | 171/1000 [00:08<00:52, 15.86it/s]"
     ]
    },
    {
     "name": "stdout",
     "output_type": "stream",
     "text": [
      "14 16 15\n",
      "14 16 15\n",
      "14 16 15\n",
      "12 18 17\n",
      "13 17 16\n"
     ]
    },
    {
     "name": "stderr",
     "output_type": "stream",
     "text": [
      "Bootstrapping:  18%|█▊        | 178/1000 [00:08<00:45, 18.20it/s]"
     ]
    },
    {
     "name": "stdout",
     "output_type": "stream",
     "text": [
      "14 16 15\n",
      "10 20 19\n",
      "9 21 20\n",
      "11 19 18\n"
     ]
    },
    {
     "name": "stderr",
     "output_type": "stream",
     "text": [
      "Bootstrapping:  18%|█▊        | 180/1000 [00:08<00:47, 17.09it/s]"
     ]
    },
    {
     "name": "stdout",
     "output_type": "stream",
     "text": [
      "13 17 16\n",
      "14 16 15\n",
      "12 18 17\n",
      "13 17 16\n"
     ]
    },
    {
     "name": "stderr",
     "output_type": "stream",
     "text": [
      "Bootstrapping:  18%|█▊        | 184/1000 [00:09<00:52, 15.57it/s]"
     ]
    },
    {
     "name": "stdout",
     "output_type": "stream",
     "text": [
      "8 22 21\n",
      "7 23 22\n",
      "11 19 18\n",
      "9 21 20\n",
      "9 21 20\n"
     ]
    },
    {
     "name": "stderr",
     "output_type": "stream",
     "text": [
      "Bootstrapping:  19%|█▉        | 190/1000 [00:09<00:39, 20.37it/s]"
     ]
    },
    {
     "name": "stdout",
     "output_type": "stream",
     "text": [
      "10 20 19\n",
      "12 18 17\n",
      "11 19 18\n",
      "8 22 21\n",
      "16 14 13\n",
      "12 18 17\n"
     ]
    },
    {
     "name": "stderr",
     "output_type": "stream",
     "text": [
      "Bootstrapping:  20%|█▉        | 196/1000 [00:09<00:46, 17.47it/s]"
     ]
    },
    {
     "name": "stdout",
     "output_type": "stream",
     "text": [
      "12 18 17\n",
      "14 16 15\n",
      "8 22 21\n"
     ]
    },
    {
     "name": "stderr",
     "output_type": "stream",
     "text": [
      "Bootstrapping:  20%|█▉        | 199/1000 [00:09<00:41, 19.38it/s]"
     ]
    },
    {
     "name": "stdout",
     "output_type": "stream",
     "text": [
      "12 18 17\n",
      "10 20 19\n",
      "9 21 20\n",
      "10 20 19\n",
      "14 16 15\n"
     ]
    },
    {
     "name": "stderr",
     "output_type": "stream",
     "text": [
      "Bootstrapping:  20%|██        | 202/1000 [00:10<00:42, 18.86it/s]"
     ]
    },
    {
     "name": "stdout",
     "output_type": "stream",
     "text": [
      "13 17 16\n",
      "11 19 18\n",
      "14 16 15\n"
     ]
    },
    {
     "name": "stderr",
     "output_type": "stream",
     "text": [
      "Bootstrapping:  21%|██        | 207/1000 [00:10<00:44, 17.66it/s]"
     ]
    },
    {
     "name": "stdout",
     "output_type": "stream",
     "text": [
      "12 18 17\n",
      "17 13 12\n",
      "11 19 18\n",
      "12 18 17\n",
      "13 17 16\n",
      "15 15 14\n"
     ]
    },
    {
     "name": "stderr",
     "output_type": "stream",
     "text": [
      "Bootstrapping:  21%|██▏       | 213/1000 [00:10<00:42, 18.44it/s]"
     ]
    },
    {
     "name": "stdout",
     "output_type": "stream",
     "text": [
      "13 17 16\n",
      "14 16 15\n",
      "15 15 14\n",
      "10 20 19\n"
     ]
    },
    {
     "name": "stderr",
     "output_type": "stream",
     "text": [
      "Bootstrapping:  22%|██▏       | 219/1000 [00:11<00:37, 21.07it/s]"
     ]
    },
    {
     "name": "stdout",
     "output_type": "stream",
     "text": [
      "13 17 16\n",
      "9 21 20\n",
      "9 21 20\n",
      "13 17 16\n",
      "7 23 22\n",
      "5 25 24\n",
      "7 23 22\n",
      "13 17 16\n"
     ]
    },
    {
     "name": "stderr",
     "output_type": "stream",
     "text": [
      "Bootstrapping:  22%|██▎       | 225/1000 [00:11<00:43, 17.93it/s]"
     ]
    },
    {
     "name": "stdout",
     "output_type": "stream",
     "text": [
      "12 18 17\n",
      "17 13 12\n",
      "10 20 19\n"
     ]
    },
    {
     "name": "stderr",
     "output_type": "stream",
     "text": [
      "Bootstrapping:  23%|██▎       | 229/1000 [00:11<00:34, 22.18it/s]"
     ]
    },
    {
     "name": "stdout",
     "output_type": "stream",
     "text": [
      "11 19 18\n",
      "12 18 17\n",
      "13 17 16\n",
      "10 20 19\n",
      "12 18 17\n",
      "13 17 16\n"
     ]
    },
    {
     "name": "stderr",
     "output_type": "stream",
     "text": [
      "Bootstrapping:  24%|██▎       | 235/1000 [00:11<00:37, 20.30it/s]"
     ]
    },
    {
     "name": "stdout",
     "output_type": "stream",
     "text": [
      "11 19 18\n",
      "8 22 21\n",
      "10 20 19\n",
      "10 20 19\n",
      "10 20 19\n",
      "7 23 22\n",
      "10 20 19\n"
     ]
    },
    {
     "name": "stderr",
     "output_type": "stream",
     "text": [
      "Bootstrapping:  24%|██▍       | 239/1000 [00:12<00:35, 21.37it/s]"
     ]
    },
    {
     "name": "stdout",
     "output_type": "stream",
     "text": [
      "12 18 17\n",
      "15 15 14\n",
      "9 21 20\n",
      "12 18 17\n"
     ]
    },
    {
     "name": "stderr",
     "output_type": "stream",
     "text": [
      "Bootstrapping:  24%|██▍       | 245/1000 [00:12<00:41, 18.40it/s]"
     ]
    },
    {
     "name": "stdout",
     "output_type": "stream",
     "text": [
      "11 19 18\n",
      "12 18 17\n",
      "14 16 15\n",
      "15 15 14\n",
      "10 20 19\n"
     ]
    },
    {
     "name": "stderr",
     "output_type": "stream",
     "text": [
      "Bootstrapping:  25%|██▍       | 248/1000 [00:12<00:40, 18.69it/s]"
     ]
    },
    {
     "name": "stdout",
     "output_type": "stream",
     "text": [
      "12 18 17\n",
      "13 17 16\n",
      "11 19 18\n"
     ]
    },
    {
     "name": "stderr",
     "output_type": "stream",
     "text": [
      "Bootstrapping:  25%|██▌       | 252/1000 [00:12<00:48, 15.48it/s]"
     ]
    },
    {
     "name": "stdout",
     "output_type": "stream",
     "text": [
      "15 15 14\n",
      "10 20 19\n",
      "9 21 20\n",
      "12 18 17\n",
      "11 19 18\n"
     ]
    },
    {
     "name": "stderr",
     "output_type": "stream",
     "text": [
      "Bootstrapping:  26%|██▌       | 256/1000 [00:13<00:38, 19.23it/s]"
     ]
    },
    {
     "name": "stdout",
     "output_type": "stream",
     "text": [
      "12 18 17\n",
      "9 21 20\n",
      "13 17 16\n",
      "10 20 19\n"
     ]
    },
    {
     "name": "stderr",
     "output_type": "stream",
     "text": [
      "Bootstrapping:  26%|██▌       | 261/1000 [00:13<00:44, 16.65it/s]"
     ]
    },
    {
     "name": "stdout",
     "output_type": "stream",
     "text": [
      "13 17 16\n",
      "13 17 16\n",
      "15 15 14\n",
      "17 13 12\n",
      "13 17 16\n"
     ]
    },
    {
     "name": "stderr",
     "output_type": "stream",
     "text": [
      "Bootstrapping:  27%|██▋       | 266/1000 [00:13<00:42, 17.36it/s]"
     ]
    },
    {
     "name": "stdout",
     "output_type": "stream",
     "text": [
      "11 19 18\n",
      "15 15 14\n",
      "15 15 14\n",
      "10 20 19\n"
     ]
    },
    {
     "name": "stderr",
     "output_type": "stream",
     "text": [
      "Bootstrapping:  27%|██▋       | 270/1000 [00:13<00:44, 16.44it/s]"
     ]
    },
    {
     "name": "stdout",
     "output_type": "stream",
     "text": [
      "11 19 18\n",
      "12 18 17\n",
      "14 16 15\n",
      "6 24 23\n",
      "12 18 17\n",
      "12 18 17\n"
     ]
    },
    {
     "name": "stderr",
     "output_type": "stream",
     "text": [
      "Bootstrapping:  28%|██▊       | 275/1000 [00:14<00:30, 24.15it/s]"
     ]
    },
    {
     "name": "stdout",
     "output_type": "stream",
     "text": [
      "11 19 18\n",
      "10 20 19\n",
      "14 16 15\n",
      "15 15 14\n"
     ]
    },
    {
     "name": "stderr",
     "output_type": "stream",
     "text": [
      "Bootstrapping:  28%|██▊       | 281/1000 [00:14<00:36, 19.53it/s]"
     ]
    },
    {
     "name": "stdout",
     "output_type": "stream",
     "text": [
      "10 20 19\n",
      "8 22 21\n",
      "10 20 19\n",
      "12 18 17\n",
      "10 20 19\n"
     ]
    },
    {
     "name": "stderr",
     "output_type": "stream",
     "text": [
      "Bootstrapping:  28%|██▊       | 284/1000 [00:14<00:41, 17.08it/s]"
     ]
    },
    {
     "name": "stdout",
     "output_type": "stream",
     "text": [
      "11 19 18\n",
      "17 13 12\n",
      "14 16 15\n"
     ]
    },
    {
     "name": "stderr",
     "output_type": "stream",
     "text": [
      "Bootstrapping:  29%|██▉       | 288/1000 [00:14<00:42, 16.62it/s]"
     ]
    },
    {
     "name": "stdout",
     "output_type": "stream",
     "text": [
      "11 19 18\n",
      "12 18 17\n",
      "13 17 16\n",
      "11 19 18\n",
      "12 18 17\n"
     ]
    },
    {
     "name": "stderr",
     "output_type": "stream",
     "text": [
      "Bootstrapping:  29%|██▉       | 293/1000 [00:15<00:45, 15.68it/s]"
     ]
    },
    {
     "name": "stdout",
     "output_type": "stream",
     "text": [
      "11 19 18\n",
      "10 20 19\n",
      "12 18 17\n",
      "7 23 22\n"
     ]
    },
    {
     "name": "stderr",
     "output_type": "stream",
     "text": [
      "Bootstrapping:  30%|██▉       | 297/1000 [00:15<00:44, 15.66it/s]"
     ]
    },
    {
     "name": "stdout",
     "output_type": "stream",
     "text": [
      "13 17 16\n",
      "6 24 23\n",
      "14 16 15\n",
      "7 23 22\n",
      "14 16 15\n"
     ]
    },
    {
     "name": "stderr",
     "output_type": "stream",
     "text": [
      "Bootstrapping:  30%|███       | 302/1000 [00:15<00:42, 16.36it/s]"
     ]
    },
    {
     "name": "stdout",
     "output_type": "stream",
     "text": [
      "9 21 20\n",
      "10 20 19\n",
      "12 18 17\n",
      "11 19 18\n"
     ]
    },
    {
     "name": "stderr",
     "output_type": "stream",
     "text": [
      "Bootstrapping:  31%|███       | 309/1000 [00:16<00:39, 17.38it/s]"
     ]
    },
    {
     "name": "stdout",
     "output_type": "stream",
     "text": [
      "15 15 14\n",
      "11 19 18\n",
      "11 19 18\n",
      "14 16 15\n",
      "10 20 19\n",
      "11 19 18\n",
      "13 17 16\n",
      "11 19 18\n"
     ]
    },
    {
     "name": "stderr",
     "output_type": "stream",
     "text": [
      "Bootstrapping:  31%|███▏      | 313/1000 [00:16<00:32, 21.44it/s]"
     ]
    },
    {
     "name": "stdout",
     "output_type": "stream",
     "text": [
      "14 16 15\n",
      "13 17 16\n",
      "10 20 19\n"
     ]
    },
    {
     "name": "stderr",
     "output_type": "stream",
     "text": [
      "Bootstrapping:  32%|███▏      | 320/1000 [00:16<00:34, 19.49it/s]"
     ]
    },
    {
     "name": "stdout",
     "output_type": "stream",
     "text": [
      "14 16 15\n",
      "15 15 14\n",
      "12 18 17\n",
      "10 20 19\n",
      "13 17 16\n",
      "8 22 21\n",
      "15 15 14\n",
      "8 22 21\n",
      "11 19 18\n"
     ]
    },
    {
     "name": "stderr",
     "output_type": "stream",
     "text": [
      "Bootstrapping:  33%|███▎      | 327/1000 [00:16<00:34, 19.58it/s]"
     ]
    },
    {
     "name": "stdout",
     "output_type": "stream",
     "text": [
      "11 19 18\n",
      "12 18 17\n",
      "15 15 14\n"
     ]
    },
    {
     "name": "stderr",
     "output_type": "stream",
     "text": [
      "Bootstrapping:  33%|███▎      | 330/1000 [00:17<00:31, 21.45it/s]"
     ]
    },
    {
     "name": "stdout",
     "output_type": "stream",
     "text": [
      "10 20 19\n",
      "14 16 15\n",
      "8 22 21\n",
      "8 22 21\n",
      "16 14 13\n",
      "11 19 18\n"
     ]
    },
    {
     "name": "stderr",
     "output_type": "stream",
     "text": [
      "Bootstrapping:  34%|███▎      | 336/1000 [00:17<00:33, 20.02it/s]"
     ]
    },
    {
     "name": "stdout",
     "output_type": "stream",
     "text": [
      "13 17 16\n",
      "10 20 19\n",
      "9 21 20\n",
      "9 21 20\n",
      "6 24 23\n",
      "11 19 18\n",
      "13 17 16\n"
     ]
    },
    {
     "name": "stderr",
     "output_type": "stream",
     "text": [
      "Bootstrapping:  34%|███▍      | 343/1000 [00:17<00:33, 19.51it/s]"
     ]
    },
    {
     "name": "stdout",
     "output_type": "stream",
     "text": [
      "12 18 17\n",
      "12 18 17\n",
      "13 17 16\n"
     ]
    },
    {
     "name": "stderr",
     "output_type": "stream",
     "text": [
      "Bootstrapping:  35%|███▌      | 350/1000 [00:17<00:26, 24.47it/s]"
     ]
    },
    {
     "name": "stdout",
     "output_type": "stream",
     "text": [
      "17 13 12\n",
      "12 18 17\n",
      "9 21 20\n",
      "13 17 16\n",
      "8 22 21\n",
      "12 18 17\n",
      "11 19 18\n",
      "9 21 20\n"
     ]
    },
    {
     "name": "stderr",
     "output_type": "stream",
     "text": [
      "Bootstrapping:  35%|███▌      | 353/1000 [00:18<00:31, 20.85it/s]"
     ]
    },
    {
     "name": "stdout",
     "output_type": "stream",
     "text": [
      "17 13 12\n",
      "15 15 14\n",
      "10 20 19\n",
      "10 20 19\n",
      "16 14 13\n"
     ]
    },
    {
     "name": "stderr",
     "output_type": "stream",
     "text": [
      "Bootstrapping:  36%|███▌      | 359/1000 [00:18<00:33, 19.17it/s]"
     ]
    },
    {
     "name": "stdout",
     "output_type": "stream",
     "text": [
      "12 18 17\n",
      "10 20 19\n",
      "13 17 16\n"
     ]
    },
    {
     "name": "stderr",
     "output_type": "stream",
     "text": [
      "Bootstrapping:  36%|███▋      | 363/1000 [00:18<00:28, 22.61it/s]"
     ]
    },
    {
     "name": "stdout",
     "output_type": "stream",
     "text": [
      "8 22 21\n",
      "9 21 20\n",
      "13 17 16\n",
      "9 21 20\n",
      "9 21 20\n",
      "11 19 18\n",
      "11 19 18\n"
     ]
    },
    {
     "name": "stderr",
     "output_type": "stream",
     "text": [
      "Bootstrapping:  37%|███▋      | 370/1000 [00:18<00:26, 23.49it/s]"
     ]
    },
    {
     "name": "stdout",
     "output_type": "stream",
     "text": [
      "15 15 14\n",
      "12 18 17\n",
      "11 19 18\n",
      "17 13 12\n",
      "13 17 16\n",
      "13 17 16\n"
     ]
    },
    {
     "name": "stderr",
     "output_type": "stream",
     "text": [
      "Bootstrapping:  37%|███▋      | 373/1000 [00:19<00:32, 19.20it/s]"
     ]
    },
    {
     "name": "stdout",
     "output_type": "stream",
     "text": [
      "14 16 15\n",
      "10 20 19\n",
      "10 20 19\n",
      "13 17 16\n"
     ]
    },
    {
     "name": "stderr",
     "output_type": "stream",
     "text": [
      "Bootstrapping:  38%|███▊      | 379/1000 [00:19<00:31, 19.84it/s]"
     ]
    },
    {
     "name": "stdout",
     "output_type": "stream",
     "text": [
      "15 15 14\n",
      "14 16 15\n",
      "10 20 19\n",
      "12 18 17\n"
     ]
    },
    {
     "name": "stderr",
     "output_type": "stream",
     "text": [
      "Bootstrapping:  38%|███▊      | 382/1000 [00:19<00:35, 17.18it/s]"
     ]
    },
    {
     "name": "stdout",
     "output_type": "stream",
     "text": [
      "11 19 18\n",
      "15 15 14\n",
      "14 16 15\n",
      "10 20 19\n"
     ]
    },
    {
     "name": "stderr",
     "output_type": "stream",
     "text": [
      "Bootstrapping:  39%|███▊      | 387/1000 [00:19<00:31, 19.30it/s]"
     ]
    },
    {
     "name": "stdout",
     "output_type": "stream",
     "text": [
      "12 18 17\n",
      "11 19 18\n",
      "10 20 19\n",
      "13 17 16\n",
      "11 19 18\n",
      "13 17 16\n"
     ]
    },
    {
     "name": "stderr",
     "output_type": "stream",
     "text": [
      "Bootstrapping:  39%|███▉      | 393/1000 [00:20<00:32, 18.71it/s]"
     ]
    },
    {
     "name": "stdout",
     "output_type": "stream",
     "text": [
      "13 17 16\n",
      "13 17 16\n",
      "15 15 14\n",
      "11 19 18\n",
      "13 17 16\n"
     ]
    },
    {
     "name": "stderr",
     "output_type": "stream",
     "text": [
      "Bootstrapping:  40%|███▉      | 396/1000 [00:20<00:29, 20.19it/s]"
     ]
    },
    {
     "name": "stdout",
     "output_type": "stream",
     "text": [
      "13 17 16\n",
      "13 17 16\n",
      "13 17 16\n",
      "5 25 24\n"
     ]
    },
    {
     "name": "stderr",
     "output_type": "stream",
     "text": [
      "Bootstrapping:  40%|████      | 401/1000 [00:20<00:38, 15.56it/s]"
     ]
    },
    {
     "name": "stdout",
     "output_type": "stream",
     "text": [
      "16 14 13\n",
      "11 19 18\n",
      "13 17 16\n"
     ]
    },
    {
     "name": "stderr",
     "output_type": "stream",
     "text": [
      "Bootstrapping:  40%|████      | 403/1000 [00:20<00:37, 15.86it/s]"
     ]
    },
    {
     "name": "stdout",
     "output_type": "stream",
     "text": [
      "9 21 20\n",
      "7 23 22\n",
      "10 20 19\n",
      "16 14 13\n",
      "13 17 16\n"
     ]
    },
    {
     "name": "stderr",
     "output_type": "stream",
     "text": [
      "Bootstrapping:  41%|████      | 410/1000 [00:21<00:28, 20.63it/s]"
     ]
    },
    {
     "name": "stdout",
     "output_type": "stream",
     "text": [
      "11 19 18\n",
      "11 19 18\n",
      "11 19 18\n",
      "14 16 15\n",
      "17 13 12\n",
      "9 21 20\n"
     ]
    },
    {
     "name": "stderr",
     "output_type": "stream",
     "text": [
      "Bootstrapping:  41%|████▏     | 413/1000 [00:21<00:27, 21.52it/s]"
     ]
    },
    {
     "name": "stdout",
     "output_type": "stream",
     "text": [
      "15 15 14\n",
      "10 20 19\n",
      "11 19 18\n"
     ]
    },
    {
     "name": "stderr",
     "output_type": "stream",
     "text": [
      "Bootstrapping:  42%|████▏     | 422/1000 [00:21<00:26, 21.92it/s]"
     ]
    },
    {
     "name": "stdout",
     "output_type": "stream",
     "text": [
      "10 20 19\n",
      "10 20 19\n",
      "12 18 17\n",
      "10 20 19\n",
      "15 15 14\n",
      "8 22 21\n"
     ]
    },
    {
     "name": "stderr",
     "output_type": "stream",
     "text": [
      "Bootstrapping:  42%|████▎     | 425/1000 [00:21<00:28, 19.89it/s]"
     ]
    },
    {
     "name": "stdout",
     "output_type": "stream",
     "text": [
      "10 20 19\n",
      "10 20 19\n",
      "13 17 16\n"
     ]
    },
    {
     "name": "stderr",
     "output_type": "stream",
     "text": [
      "Bootstrapping:  43%|████▎     | 428/1000 [00:22<00:27, 20.83it/s]"
     ]
    },
    {
     "name": "stdout",
     "output_type": "stream",
     "text": [
      "13 17 16\n",
      "12 18 17\n",
      "11 19 18\n",
      "6 24 23\n",
      "12 18 17\n"
     ]
    },
    {
     "name": "stderr",
     "output_type": "stream",
     "text": [
      "Bootstrapping:  43%|████▎     | 433/1000 [00:22<00:30, 18.40it/s]"
     ]
    },
    {
     "name": "stdout",
     "output_type": "stream",
     "text": [
      "13 17 16\n",
      "10 20 19\n",
      "15 15 14\n",
      "10 20 19\n",
      "7 23 22\n"
     ]
    },
    {
     "name": "stderr",
     "output_type": "stream",
     "text": [
      "Bootstrapping:  44%|████▎     | 437/1000 [00:22<00:31, 17.82it/s]"
     ]
    },
    {
     "name": "stdout",
     "output_type": "stream",
     "text": [
      "12 18 17\n",
      "12 18 17\n",
      "12 18 17\n",
      "9 21 20\n",
      "8 22 21\n"
     ]
    },
    {
     "name": "stderr",
     "output_type": "stream",
     "text": [
      "Bootstrapping:  44%|████▍     | 440/1000 [00:22<00:28, 19.51it/s]"
     ]
    },
    {
     "name": "stdout",
     "output_type": "stream",
     "text": [
      "10 20 19\n",
      "9 21 20\n",
      "14 16 15\n"
     ]
    },
    {
     "name": "stderr",
     "output_type": "stream",
     "text": [
      "Bootstrapping:  45%|████▍     | 446/1000 [00:23<00:27, 19.87it/s]"
     ]
    },
    {
     "name": "stdout",
     "output_type": "stream",
     "text": [
      "11 19 18\n",
      "13 17 16\n",
      "12 18 17\n",
      "12 18 17\n",
      "11 19 18\n",
      "9 21 20\n"
     ]
    },
    {
     "name": "stderr",
     "output_type": "stream",
     "text": [
      "Bootstrapping:  45%|████▌     | 452/1000 [00:23<00:28, 18.99it/s]"
     ]
    },
    {
     "name": "stdout",
     "output_type": "stream",
     "text": [
      "11 19 18\n",
      "13 17 16\n",
      "11 19 18\n",
      "12 18 17\n",
      "13 17 16\n",
      "14 16 15\n"
     ]
    },
    {
     "name": "stderr",
     "output_type": "stream",
     "text": [
      "Bootstrapping:  46%|████▌     | 456/1000 [00:23<00:26, 20.78it/s]"
     ]
    },
    {
     "name": "stdout",
     "output_type": "stream",
     "text": [
      "14 16 15\n",
      "7 23 22\n",
      "15 15 14\n",
      "12 18 17\n"
     ]
    },
    {
     "name": "stderr",
     "output_type": "stream",
     "text": [
      "Bootstrapping:  46%|████▌     | 462/1000 [00:23<00:27, 19.33it/s]"
     ]
    },
    {
     "name": "stdout",
     "output_type": "stream",
     "text": [
      "11 19 18\n",
      "16 14 13\n",
      "11 19 18\n",
      "10 20 19\n",
      "7 23 22\n"
     ]
    },
    {
     "name": "stderr",
     "output_type": "stream",
     "text": [
      "Bootstrapping:  46%|████▋     | 465/1000 [00:24<00:25, 21.09it/s]"
     ]
    },
    {
     "name": "stdout",
     "output_type": "stream",
     "text": [
      "11 19 18\n",
      "9 21 20\n",
      "12 18 17\n",
      "10 20 19\n"
     ]
    },
    {
     "name": "stderr",
     "output_type": "stream",
     "text": [
      "Bootstrapping:  47%|████▋     | 470/1000 [00:24<00:31, 16.70it/s]"
     ]
    },
    {
     "name": "stdout",
     "output_type": "stream",
     "text": [
      "8 22 21\n",
      "14 16 15\n",
      "11 19 18\n",
      "13 17 16\n"
     ]
    },
    {
     "name": "stderr",
     "output_type": "stream",
     "text": [
      "Bootstrapping:  47%|████▋     | 474/1000 [00:24<00:33, 15.48it/s]"
     ]
    },
    {
     "name": "stdout",
     "output_type": "stream",
     "text": [
      "9 21 20\n",
      "15 15 14\n",
      "12 18 17\n",
      "9 21 20\n"
     ]
    },
    {
     "name": "stderr",
     "output_type": "stream",
     "text": [
      "Bootstrapping:  48%|████▊     | 480/1000 [00:24<00:24, 21.35it/s]"
     ]
    },
    {
     "name": "stdout",
     "output_type": "stream",
     "text": [
      "13 17 16\n",
      "9 21 20\n",
      "17 13 12\n",
      "9 21 20\n",
      "11 19 18\n",
      "11 19 18\n",
      "14 16 15\n",
      "11 19 18\n"
     ]
    },
    {
     "name": "stderr",
     "output_type": "stream",
     "text": [
      "Bootstrapping:  49%|████▊     | 487/1000 [00:25<00:24, 21.15it/s]"
     ]
    },
    {
     "name": "stdout",
     "output_type": "stream",
     "text": [
      "15 15 14\n",
      "15 15 14\n",
      "14 16 15\n",
      "13 17 16\n",
      "11 19 18\n",
      "13 17 16\n"
     ]
    },
    {
     "name": "stderr",
     "output_type": "stream",
     "text": [
      "Bootstrapping:  50%|████▉     | 495/1000 [00:25<00:20, 24.57it/s]"
     ]
    },
    {
     "name": "stdout",
     "output_type": "stream",
     "text": [
      "10 20 19\n",
      "7 23 22\n",
      "13 17 16\n",
      "13 17 16\n",
      "7 23 22\n",
      "12 18 17\n"
     ]
    },
    {
     "name": "stderr",
     "output_type": "stream",
     "text": [
      "Bootstrapping:  50%|█████     | 501/1000 [00:25<00:20, 24.75it/s]"
     ]
    },
    {
     "name": "stdout",
     "output_type": "stream",
     "text": [
      "12 18 17\n",
      "10 20 19\n",
      "14 16 15\n",
      "14 16 15\n",
      "11 19 18\n",
      "15 15 14\n"
     ]
    },
    {
     "name": "stderr",
     "output_type": "stream",
     "text": [
      "Bootstrapping:  51%|█████     | 508/1000 [00:26<00:20, 24.07it/s]"
     ]
    },
    {
     "name": "stdout",
     "output_type": "stream",
     "text": [
      "11 19 18\n",
      "9 21 20\n",
      "14 16 15\n",
      "8 22 21\n",
      "12 18 17\n",
      "10 20 19\n",
      "14 16 15\n",
      "10 20 19\n",
      "14 16 15\n",
      "9 21 20\n"
     ]
    },
    {
     "name": "stderr",
     "output_type": "stream",
     "text": [
      "Bootstrapping:  51%|█████▏    | 513/1000 [00:26<00:18, 26.79it/s]"
     ]
    },
    {
     "name": "stdout",
     "output_type": "stream",
     "text": [
      "12 18 17\n",
      "10 20 19\n",
      "12 18 17\n",
      "11 19 18\n"
     ]
    },
    {
     "name": "stderr",
     "output_type": "stream",
     "text": [
      "Bootstrapping:  52%|█████▏    | 516/1000 [00:26<00:22, 21.38it/s]"
     ]
    },
    {
     "name": "stdout",
     "output_type": "stream",
     "text": [
      "13 17 16\n",
      "12 18 17\n",
      "10 20 19\n"
     ]
    },
    {
     "name": "stderr",
     "output_type": "stream",
     "text": [
      "Bootstrapping:  52%|█████▎    | 525/1000 [00:26<00:22, 20.70it/s]"
     ]
    },
    {
     "name": "stdout",
     "output_type": "stream",
     "text": [
      "10 20 19\n",
      "14 16 15\n",
      "11 19 18\n",
      "11 19 18\n",
      "14 16 15\n",
      "9 21 20\n",
      "10 20 19\n",
      "14 16 15\n"
     ]
    },
    {
     "name": "stderr",
     "output_type": "stream",
     "text": [
      "Bootstrapping:  53%|█████▎    | 529/1000 [00:27<00:21, 22.42it/s]"
     ]
    },
    {
     "name": "stdout",
     "output_type": "stream",
     "text": [
      "8 22 21\n",
      "12 18 17\n",
      "10 20 19\n",
      "14 16 15\n",
      "10 20 19\n"
     ]
    },
    {
     "name": "stderr",
     "output_type": "stream",
     "text": [
      "Bootstrapping:  54%|█████▎    | 535/1000 [00:27<00:23, 19.68it/s]"
     ]
    },
    {
     "name": "stdout",
     "output_type": "stream",
     "text": [
      "15 15 14\n",
      "12 18 17\n",
      "15 15 14\n",
      "13 17 16\n",
      "12 18 17\n",
      "11 19 18\n",
      "14 16 15\n"
     ]
    },
    {
     "name": "stderr",
     "output_type": "stream",
     "text": [
      "Bootstrapping:  54%|█████▍    | 539/1000 [00:27<00:20, 22.41it/s]"
     ]
    },
    {
     "name": "stdout",
     "output_type": "stream",
     "text": [
      "14 16 15\n",
      "12 18 17\n",
      "14 16 15\n"
     ]
    },
    {
     "name": "stderr",
     "output_type": "stream",
     "text": [
      "Bootstrapping:  55%|█████▍    | 545/1000 [00:27<00:23, 19.41it/s]"
     ]
    },
    {
     "name": "stdout",
     "output_type": "stream",
     "text": [
      "13 17 16\n",
      "14 16 15\n",
      "10 20 19\n",
      "8 22 21\n",
      "12 18 17\n",
      "13 17 16\n",
      "11 19 18\n"
     ]
    },
    {
     "name": "stderr",
     "output_type": "stream",
     "text": [
      "Bootstrapping:  55%|█████▌    | 550/1000 [00:27<00:18, 24.57it/s]"
     ]
    },
    {
     "name": "stdout",
     "output_type": "stream",
     "text": [
      "13 17 16\n",
      "9 21 20\n",
      "11 19 18\n",
      "13 17 16\n"
     ]
    },
    {
     "name": "stderr",
     "output_type": "stream",
     "text": [
      "Bootstrapping:  56%|█████▌    | 556/1000 [00:28<00:22, 19.39it/s]"
     ]
    },
    {
     "name": "stdout",
     "output_type": "stream",
     "text": [
      "10 20 19\n",
      "13 17 16\n",
      "11 19 18\n",
      "8 22 21\n"
     ]
    },
    {
     "name": "stderr",
     "output_type": "stream",
     "text": [
      "Bootstrapping:  56%|█████▌    | 560/1000 [00:28<00:19, 22.44it/s]"
     ]
    },
    {
     "name": "stdout",
     "output_type": "stream",
     "text": [
      "15 15 14\n",
      "14 16 15\n",
      "10 20 19\n",
      "10 20 19\n",
      "10 20 19\n",
      "8 22 21\n"
     ]
    },
    {
     "name": "stderr",
     "output_type": "stream",
     "text": [
      "Bootstrapping:  57%|█████▋    | 566/1000 [00:28<00:20, 21.12it/s]"
     ]
    },
    {
     "name": "stdout",
     "output_type": "stream",
     "text": [
      "13 17 16\n",
      "9 21 20\n",
      "14 16 15\n",
      "12 18 17\n",
      "11 19 18\n",
      "12 18 17\n"
     ]
    },
    {
     "name": "stderr",
     "output_type": "stream",
     "text": [
      "Bootstrapping:  57%|█████▋    | 573/1000 [00:29<00:19, 22.05it/s]"
     ]
    },
    {
     "name": "stdout",
     "output_type": "stream",
     "text": [
      "16 14 13\n",
      "13 17 16\n",
      "8 22 21\n",
      "12 18 17\n"
     ]
    },
    {
     "name": "stderr",
     "output_type": "stream",
     "text": [
      "Bootstrapping:  58%|█████▊    | 580/1000 [00:29<00:15, 27.05it/s]"
     ]
    },
    {
     "name": "stdout",
     "output_type": "stream",
     "text": [
      "13 17 16\n",
      "9 21 20\n",
      "12 18 17\n",
      "8 22 21\n",
      "7 23 22\n",
      "12 18 17\n",
      "10 20 19\n"
     ]
    },
    {
     "name": "stderr",
     "output_type": "stream",
     "text": [
      "Bootstrapping:  59%|█████▉    | 588/1000 [00:29<00:14, 29.29it/s]"
     ]
    },
    {
     "name": "stdout",
     "output_type": "stream",
     "text": [
      "14 16 15\n",
      "10 20 19\n",
      "13 17 16\n",
      "14 16 15\n",
      "11 19 18\n",
      "9 21 20\n",
      "9 21 20\n",
      "14 16 15\n",
      "14 16 15\n",
      "12 18 17\n",
      "14 16 15\n"
     ]
    },
    {
     "name": "stderr",
     "output_type": "stream",
     "text": [
      "Bootstrapping:  60%|█████▉    | 596/1000 [00:29<00:14, 28.46it/s]"
     ]
    },
    {
     "name": "stdout",
     "output_type": "stream",
     "text": [
      "8 22 21\n",
      "10 20 19\n",
      "13 17 16\n",
      "14 16 15\n",
      "15 15 14\n",
      "13 17 16\n",
      "14 16 15\n",
      "13 17 16\n",
      "13 17 16\n"
     ]
    },
    {
     "name": "stderr",
     "output_type": "stream",
     "text": [
      "Bootstrapping:  60%|██████    | 605/1000 [00:30<00:11, 33.48it/s]"
     ]
    },
    {
     "name": "stdout",
     "output_type": "stream",
     "text": [
      "7 23 22\n",
      "12 18 17\n",
      "15 15 14\n",
      "12 18 17\n",
      "11 19 18\n",
      "12 18 17\n",
      "7 23 22\n",
      "13 17 16\n",
      "14 16 15\n"
     ]
    },
    {
     "name": "stderr",
     "output_type": "stream",
     "text": [
      "Bootstrapping:  61%|██████▏   | 613/1000 [00:30<00:12, 32.21it/s]"
     ]
    },
    {
     "name": "stdout",
     "output_type": "stream",
     "text": [
      "7 23 22\n",
      "7 23 22\n",
      "12 18 17\n",
      "11 19 18\n",
      "9 21 20\n",
      "11 19 18\n"
     ]
    },
    {
     "name": "stderr",
     "output_type": "stream",
     "text": [
      "Bootstrapping:  62%|██████▏   | 617/1000 [00:30<00:15, 24.92it/s]"
     ]
    },
    {
     "name": "stdout",
     "output_type": "stream",
     "text": [
      "8 22 21\n",
      "9 21 20\n",
      "9 21 20\n",
      "15 15 14\n",
      "9 21 20\n"
     ]
    },
    {
     "name": "stderr",
     "output_type": "stream",
     "text": [
      "Bootstrapping:  62%|██████▏   | 623/1000 [00:30<00:14, 25.82it/s]"
     ]
    },
    {
     "name": "stdout",
     "output_type": "stream",
     "text": [
      "13 17 16\n",
      "15 15 14\n",
      "13 17 16\n",
      "9 21 20\n",
      "15 15 14\n",
      "11 19 18\n",
      "16 14 13\n"
     ]
    },
    {
     "name": "stderr",
     "output_type": "stream",
     "text": [
      "Bootstrapping:  63%|██████▎   | 631/1000 [00:31<00:12, 28.84it/s]"
     ]
    },
    {
     "name": "stdout",
     "output_type": "stream",
     "text": [
      "12 18 17\n",
      "11 19 18\n",
      "12 18 17\n",
      "15 15 14\n",
      "10 20 19\n",
      "15 15 14\n",
      "11 19 18\n"
     ]
    },
    {
     "name": "stderr",
     "output_type": "stream",
     "text": [
      "Bootstrapping:  64%|██████▎   | 637/1000 [00:31<00:13, 26.50it/s]"
     ]
    },
    {
     "name": "stdout",
     "output_type": "stream",
     "text": [
      "14 16 15\n",
      "10 20 19\n",
      "9 21 20\n",
      "8 22 21\n",
      "11 19 18\n"
     ]
    },
    {
     "name": "stderr",
     "output_type": "stream",
     "text": [
      "Bootstrapping:  64%|██████▍   | 640/1000 [00:31<00:15, 22.60it/s]"
     ]
    },
    {
     "name": "stdout",
     "output_type": "stream",
     "text": [
      "13 17 16\n",
      "9 21 20\n",
      "12 18 17\n",
      "12 18 17\n"
     ]
    },
    {
     "name": "stderr",
     "output_type": "stream",
     "text": [
      "Bootstrapping:  65%|██████▍   | 646/1000 [00:31<00:16, 21.06it/s]"
     ]
    },
    {
     "name": "stdout",
     "output_type": "stream",
     "text": [
      "12 18 17\n",
      "13 17 16\n",
      "13 17 16\n",
      "14 16 15\n",
      "13 17 16\n",
      "14 16 15\n",
      "10 20 19\n"
     ]
    },
    {
     "name": "stderr",
     "output_type": "stream",
     "text": [
      "Bootstrapping:  65%|██████▌   | 653/1000 [00:32<00:15, 22.45it/s]"
     ]
    },
    {
     "name": "stdout",
     "output_type": "stream",
     "text": [
      "14 16 15\n",
      "7 23 22\n",
      "11 19 18\n",
      "9 21 20\n",
      "15 15 14\n",
      "12 18 17\n",
      "7 23 22\n"
     ]
    },
    {
     "name": "stderr",
     "output_type": "stream",
     "text": [
      "Bootstrapping:  66%|██████▌   | 660/1000 [00:32<00:13, 26.12it/s]"
     ]
    },
    {
     "name": "stdout",
     "output_type": "stream",
     "text": [
      "14 16 15\n",
      "12 18 17\n",
      "13 17 16\n",
      "11 19 18\n",
      "11 19 18\n",
      "14 16 15\n"
     ]
    },
    {
     "name": "stderr",
     "output_type": "stream",
     "text": [
      "Bootstrapping:  67%|██████▋   | 666/1000 [00:32<00:14, 22.30it/s]"
     ]
    },
    {
     "name": "stdout",
     "output_type": "stream",
     "text": [
      "9 21 20\n",
      "12 18 17\n",
      "11 19 18\n",
      "15 15 14\n",
      "13 17 16\n",
      "10 20 19\n"
     ]
    },
    {
     "name": "stderr",
     "output_type": "stream",
     "text": [
      "Bootstrapping:  67%|██████▋   | 672/1000 [00:32<00:15, 21.50it/s]"
     ]
    },
    {
     "name": "stdout",
     "output_type": "stream",
     "text": [
      "12 18 17\n",
      "10 20 19\n",
      "13 17 16\n",
      "12 18 17\n",
      "14 16 15\n",
      "13 17 16\n"
     ]
    },
    {
     "name": "stderr",
     "output_type": "stream",
     "text": [
      "Bootstrapping:  68%|██████▊   | 678/1000 [00:33<00:15, 20.21it/s]"
     ]
    },
    {
     "name": "stdout",
     "output_type": "stream",
     "text": [
      "16 14 13\n",
      "11 19 18\n",
      "12 18 17\n",
      "14 16 15\n",
      "11 19 18\n",
      "9 21 20\n",
      "9 21 20\n"
     ]
    },
    {
     "name": "stderr",
     "output_type": "stream",
     "text": [
      "Bootstrapping:  68%|██████▊   | 682/1000 [00:33<00:13, 23.67it/s]"
     ]
    },
    {
     "name": "stdout",
     "output_type": "stream",
     "text": [
      "14 16 15\n",
      "19 11 10\n",
      "13 17 16\n"
     ]
    },
    {
     "name": "stderr",
     "output_type": "stream",
     "text": [
      "Bootstrapping:  69%|██████▉   | 689/1000 [00:33<00:14, 22.11it/s]"
     ]
    },
    {
     "name": "stdout",
     "output_type": "stream",
     "text": [
      "11 19 18\n",
      "7 23 22\n",
      "12 18 17\n",
      "12 18 17\n",
      "11 19 18\n",
      "10 20 19\n",
      "12 18 17\n",
      "10 20 19\n"
     ]
    },
    {
     "name": "stderr",
     "output_type": "stream",
     "text": [
      "Bootstrapping:  70%|███████   | 701/1000 [00:33<00:09, 30.60it/s]"
     ]
    },
    {
     "name": "stdout",
     "output_type": "stream",
     "text": [
      "11 19 18\n",
      "8 22 21\n",
      "10 20 19\n",
      "8 22 21\n",
      "11 19 18\n",
      "12 18 17\n",
      "10 20 19\n",
      "10 20 19\n"
     ]
    },
    {
     "name": "stderr",
     "output_type": "stream",
     "text": [
      "Bootstrapping:  70%|███████   | 705/1000 [00:34<00:10, 28.00it/s]"
     ]
    },
    {
     "name": "stdout",
     "output_type": "stream",
     "text": [
      "14 16 15\n",
      "14 16 15\n",
      "8 22 21\n",
      "13 17 16\n",
      "13 17 16\n"
     ]
    },
    {
     "name": "stderr",
     "output_type": "stream",
     "text": [
      "Bootstrapping:  71%|███████   | 712/1000 [00:34<00:10, 27.66it/s]"
     ]
    },
    {
     "name": "stdout",
     "output_type": "stream",
     "text": [
      "12 18 17\n",
      "12 18 17\n",
      "14 16 15\n",
      "11 19 18\n",
      "14 16 15\n",
      "16 14 13\n"
     ]
    },
    {
     "name": "stderr",
     "output_type": "stream",
     "text": [
      "Bootstrapping:  72%|███████▏  | 715/1000 [00:34<00:12, 22.89it/s]"
     ]
    },
    {
     "name": "stdout",
     "output_type": "stream",
     "text": [
      "12 18 17\n",
      "14 16 15\n",
      "14 16 15\n",
      "13 17 16\n",
      "13 17 16\n",
      "10 20 19\n",
      "11 19 18\n"
     ]
    },
    {
     "name": "stderr",
     "output_type": "stream",
     "text": [
      "Bootstrapping:  73%|███████▎  | 726/1000 [00:34<00:09, 29.26it/s]"
     ]
    },
    {
     "name": "stdout",
     "output_type": "stream",
     "text": [
      "15 15 14\n",
      "15 15 14\n",
      "11 19 18\n",
      "13 17 16\n",
      "11 19 18\n",
      "12 18 17\n",
      "11 19 18\n",
      "10 20 19\n"
     ]
    },
    {
     "name": "stderr",
     "output_type": "stream",
     "text": [
      "Bootstrapping:  73%|███████▎  | 731/1000 [00:35<00:07, 33.76it/s]"
     ]
    },
    {
     "name": "stdout",
     "output_type": "stream",
     "text": [
      "17 13 12\n",
      "9 21 20\n",
      "10 20 19\n",
      "13 17 16\n",
      "11 19 18\n",
      "15 15 14\n",
      "11 19 18\n",
      "10 20 19\n"
     ]
    },
    {
     "name": "stderr",
     "output_type": "stream",
     "text": [
      "Bootstrapping:  74%|███████▍  | 739/1000 [00:35<00:09, 28.54it/s]"
     ]
    },
    {
     "name": "stdout",
     "output_type": "stream",
     "text": [
      "9 21 20\n",
      "14 16 15\n",
      "14 16 15\n",
      "12 18 17\n",
      "10 20 19\n",
      "15 15 14\n",
      "10 20 19\n",
      "11 19 18\n",
      "12 18 17\n"
     ]
    },
    {
     "name": "stderr",
     "output_type": "stream",
     "text": [
      "Bootstrapping:  75%|███████▍  | 748/1000 [00:35<00:07, 33.21it/s]"
     ]
    },
    {
     "name": "stdout",
     "output_type": "stream",
     "text": [
      "12 18 17\n",
      "13 17 16\n",
      "14 16 15\n",
      "10 20 19\n",
      "9 21 20\n",
      "14 16 15\n",
      "12 18 17\n",
      "12 18 17\n"
     ]
    },
    {
     "name": "stderr",
     "output_type": "stream",
     "text": [
      "Bootstrapping:  76%|███████▌  | 756/1000 [00:35<00:07, 31.31it/s]"
     ]
    },
    {
     "name": "stdout",
     "output_type": "stream",
     "text": [
      "15 15 14\n",
      "13 17 16\n",
      "14 16 15\n",
      "11 19 18\n",
      "13 17 16\n",
      "12 18 17\n",
      "9 21 20\n"
     ]
    },
    {
     "name": "stderr",
     "output_type": "stream",
     "text": [
      "Bootstrapping:  76%|███████▌  | 760/1000 [00:36<00:07, 31.74it/s]"
     ]
    },
    {
     "name": "stdout",
     "output_type": "stream",
     "text": [
      "15 15 14\n",
      "13 17 16\n",
      "10 20 19\n",
      "14 16 15\n",
      "12 18 17\n"
     ]
    },
    {
     "name": "stderr",
     "output_type": "stream",
     "text": [
      "Bootstrapping:  77%|███████▋  | 773/1000 [00:36<00:07, 32.36it/s]"
     ]
    },
    {
     "name": "stdout",
     "output_type": "stream",
     "text": [
      "10 20 19\n",
      "11 19 18\n",
      "12 18 17\n",
      "10 20 19\n",
      "13 17 16\n",
      "14 16 15\n",
      "13 17 16\n",
      "9 21 20\n",
      "12 18 17\n"
     ]
    },
    {
     "name": "stderr",
     "output_type": "stream",
     "text": [
      "Bootstrapping:  78%|███████▊  | 782/1000 [00:36<00:06, 35.61it/s]"
     ]
    },
    {
     "name": "stdout",
     "output_type": "stream",
     "text": [
      "9 21 20\n",
      "11 19 18\n",
      "11 19 18\n",
      "8 22 21\n",
      "8 22 21\n",
      "13 17 16\n",
      "15 15 14\n",
      "11 19 18\n",
      "13 17 16\n"
     ]
    },
    {
     "name": "stderr",
     "output_type": "stream",
     "text": [
      "Bootstrapping:  79%|███████▊  | 786/1000 [00:36<00:06, 31.60it/s]"
     ]
    },
    {
     "name": "stdout",
     "output_type": "stream",
     "text": [
      "15 15 14\n",
      "14 16 15\n",
      "14 16 15\n",
      "12 18 17\n",
      "11 19 18\n",
      "12 18 17\n",
      "13 17 16\n"
     ]
    },
    {
     "name": "stderr",
     "output_type": "stream",
     "text": [
      "Bootstrapping:  79%|███████▉  | 791/1000 [00:36<00:06, 34.46it/s]"
     ]
    },
    {
     "name": "stdout",
     "output_type": "stream",
     "text": [
      "11 19 18\n",
      "12 18 17\n",
      "9 21 20\n",
      "11 19 18\n",
      "14 16 15\n",
      "6 24 23\n"
     ]
    },
    {
     "name": "stderr",
     "output_type": "stream",
     "text": [
      "Bootstrapping:  80%|███████▉  | 799/1000 [00:37<00:07, 27.09it/s]"
     ]
    },
    {
     "name": "stdout",
     "output_type": "stream",
     "text": [
      "9 21 20\n",
      "11 19 18\n",
      "11 19 18\n",
      "10 20 19\n",
      "11 19 18\n",
      "11 19 18\n",
      "13 17 16\n"
     ]
    },
    {
     "name": "stderr",
     "output_type": "stream",
     "text": [
      "Bootstrapping:  80%|████████  | 805/1000 [00:37<00:07, 26.70it/s]"
     ]
    },
    {
     "name": "stdout",
     "output_type": "stream",
     "text": [
      "11 19 18\n",
      "10 20 19\n",
      "13 17 16\n",
      "10 20 19\n",
      "9 21 20\n",
      "12 18 17\n"
     ]
    },
    {
     "name": "stderr",
     "output_type": "stream",
     "text": [
      "Bootstrapping:  81%|████████  | 811/1000 [00:37<00:07, 25.45it/s]"
     ]
    },
    {
     "name": "stdout",
     "output_type": "stream",
     "text": [
      "13 17 16\n",
      "13 17 16\n",
      "10 20 19\n",
      "11 19 18\n",
      "12 18 17\n",
      "11 19 18\n"
     ]
    },
    {
     "name": "stderr",
     "output_type": "stream",
     "text": [
      "Bootstrapping:  82%|████████▏ | 822/1000 [00:38<00:05, 32.06it/s]"
     ]
    },
    {
     "name": "stdout",
     "output_type": "stream",
     "text": [
      "14 16 15\n",
      "13 17 16\n",
      "16 14 13\n",
      "10 20 19\n",
      "11 19 18\n",
      "14 16 15\n",
      "12 18 17\n",
      "9 21 20\n",
      "13 17 16\n",
      "10 20 19\n"
     ]
    },
    {
     "name": "stderr",
     "output_type": "stream",
     "text": [
      "Bootstrapping:  83%|████████▎ | 830/1000 [00:38<00:05, 30.31it/s]"
     ]
    },
    {
     "name": "stdout",
     "output_type": "stream",
     "text": [
      "13 17 16\n",
      "11 19 18\n",
      "9 21 20\n",
      "13 17 16\n",
      "12 18 17\n",
      "8 22 21\n",
      "14 16 15\n",
      "12 18 17\n",
      "10 20 19\n",
      "12 18 17\n",
      "9 21 20\n",
      "10 20 19\n"
     ]
    },
    {
     "name": "stderr",
     "output_type": "stream",
     "text": [
      "Bootstrapping:  84%|████████▍ | 844/1000 [00:38<00:04, 36.06it/s]"
     ]
    },
    {
     "name": "stdout",
     "output_type": "stream",
     "text": [
      "12 18 17\n",
      "14 16 15\n",
      "14 16 15\n",
      "11 19 18\n",
      "12 18 17\n",
      "13 17 16\n",
      "11 19 18\n",
      "11 19 18\n",
      "12 18 17\n",
      "14 16 15\n"
     ]
    },
    {
     "name": "stderr",
     "output_type": "stream",
     "text": [
      "Bootstrapping:  85%|████████▍ | 848/1000 [00:38<00:04, 35.00it/s]"
     ]
    },
    {
     "name": "stdout",
     "output_type": "stream",
     "text": [
      "12 18 17\n",
      "12 18 17\n",
      "12 18 17\n",
      "12 18 17\n",
      "11 19 18\n",
      "13 17 16\n"
     ]
    },
    {
     "name": "stderr",
     "output_type": "stream",
     "text": [
      "Bootstrapping:  86%|████████▌ | 857/1000 [00:39<00:04, 30.94it/s]"
     ]
    },
    {
     "name": "stdout",
     "output_type": "stream",
     "text": [
      "11 19 18\n",
      "11 19 18\n",
      "13 17 16\n",
      "16 14 13\n",
      "11 19 18\n",
      "12 18 17\n",
      "11 19 18\n",
      "13 17 16\n",
      "11 19 18\n",
      "15 15 14\n"
     ]
    },
    {
     "name": "stderr",
     "output_type": "stream",
     "text": [
      "Bootstrapping:  87%|████████▋ | 866/1000 [00:39<00:04, 31.11it/s]"
     ]
    },
    {
     "name": "stdout",
     "output_type": "stream",
     "text": [
      "7 23 22\n",
      "14 16 15\n",
      "13 17 16\n",
      "12 18 17\n",
      "11 19 18\n",
      "10 20 19\n",
      "12 18 17\n",
      "14 16 15\n"
     ]
    },
    {
     "name": "stderr",
     "output_type": "stream",
     "text": [
      "Bootstrapping:  88%|████████▊ | 875/1000 [00:39<00:03, 34.38it/s]"
     ]
    },
    {
     "name": "stdout",
     "output_type": "stream",
     "text": [
      "13 17 16\n",
      "16 14 13\n",
      "13 17 16\n",
      "12 18 17\n",
      "12 18 17\n",
      "11 19 18\n",
      "13 17 16\n",
      "13 17 16\n",
      "12 18 17\n"
     ]
    },
    {
     "name": "stderr",
     "output_type": "stream",
     "text": [
      "Bootstrapping:  89%|████████▉ | 888/1000 [00:40<00:03, 36.96it/s]"
     ]
    },
    {
     "name": "stdout",
     "output_type": "stream",
     "text": [
      "11 19 18\n",
      "13 17 16\n",
      "14 16 15\n",
      "12 18 17\n",
      "13 17 16\n",
      "12 18 17\n",
      "12 18 17\n",
      "12 18 17\n",
      "9 21 20\n",
      "5 25 24\n",
      "9 21 20\n",
      "14 16 15\n",
      "10 20 19\n"
     ]
    },
    {
     "name": "stderr",
     "output_type": "stream",
     "text": [
      "Bootstrapping:  90%|████████▉ | 896/1000 [00:40<00:03, 26.20it/s]"
     ]
    },
    {
     "name": "stdout",
     "output_type": "stream",
     "text": [
      "13 17 16\n",
      "11 19 18\n",
      "12 18 17\n",
      "14 16 15\n",
      "11 19 18\n",
      "10 20 19\n",
      "14 16 15\n"
     ]
    },
    {
     "name": "stderr",
     "output_type": "stream",
     "text": [
      "Bootstrapping:  90%|█████████ | 902/1000 [00:40<00:04, 24.03it/s]"
     ]
    },
    {
     "name": "stdout",
     "output_type": "stream",
     "text": [
      "10 20 19\n",
      "13 17 16\n",
      "13 17 16\n",
      "13 17 16\n"
     ]
    },
    {
     "name": "stderr",
     "output_type": "stream",
     "text": [
      "Bootstrapping:  91%|█████████ | 909/1000 [00:41<00:03, 24.73it/s]"
     ]
    },
    {
     "name": "stdout",
     "output_type": "stream",
     "text": [
      "16 14 13\n",
      "12 18 17\n",
      "9 21 20\n",
      "12 18 17\n",
      "12 18 17\n",
      "14 16 15\n",
      "11 19 18\n",
      "10 20 19\n",
      "10 20 19\n"
     ]
    },
    {
     "name": "stderr",
     "output_type": "stream",
     "text": [
      "Bootstrapping:  91%|█████████▏| 913/1000 [00:41<00:03, 25.41it/s]"
     ]
    },
    {
     "name": "stdout",
     "output_type": "stream",
     "text": [
      "12 18 17\n",
      "11 19 18\n",
      "13 17 16\n",
      "12 18 17\n"
     ]
    },
    {
     "name": "stderr",
     "output_type": "stream",
     "text": [
      "Bootstrapping:  92%|█████████▏| 923/1000 [00:41<00:02, 26.47it/s]"
     ]
    },
    {
     "name": "stdout",
     "output_type": "stream",
     "text": [
      "10 20 19\n",
      "12 18 17\n",
      "13 17 16\n",
      "13 17 16\n",
      "11 19 18\n",
      "12 18 17\n",
      "14 16 15\n"
     ]
    },
    {
     "name": "stderr",
     "output_type": "stream",
     "text": [
      "Bootstrapping:  93%|█████████▎| 927/1000 [00:41<00:02, 25.86it/s]"
     ]
    },
    {
     "name": "stdout",
     "output_type": "stream",
     "text": [
      "14 16 15\n",
      "11 19 18\n",
      "9 21 20\n",
      "18 12 11\n",
      "15 15 14\n",
      "13 17 16\n"
     ]
    },
    {
     "name": "stderr",
     "output_type": "stream",
     "text": [
      "Bootstrapping:  93%|█████████▎| 933/1000 [00:42<00:03, 21.10it/s]"
     ]
    },
    {
     "name": "stdout",
     "output_type": "stream",
     "text": [
      "14 16 15\n",
      "11 19 18\n",
      "12 18 17\n",
      "9 21 20\n",
      "14 16 15\n"
     ]
    },
    {
     "name": "stderr",
     "output_type": "stream",
     "text": [
      "Bootstrapping:  94%|█████████▎| 937/1000 [00:42<00:02, 24.07it/s]"
     ]
    },
    {
     "name": "stdout",
     "output_type": "stream",
     "text": [
      "13 17 16\n",
      "10 20 19\n",
      "14 16 15\n",
      "13 17 16\n",
      "10 20 19\n",
      "10 20 19\n",
      "14 16 15\n"
     ]
    },
    {
     "name": "stderr",
     "output_type": "stream",
     "text": [
      "Bootstrapping:  95%|█████████▌| 950/1000 [00:42<00:01, 33.09it/s]"
     ]
    },
    {
     "name": "stdout",
     "output_type": "stream",
     "text": [
      "8 22 21\n",
      "10 20 19\n",
      "12 18 17\n",
      "14 16 15\n",
      "8 22 21\n",
      "14 16 15\n",
      "12 18 17\n",
      "12 18 17\n",
      "7 23 22\n",
      "10 20 19\n",
      "11 19 18\n",
      "9 21 20\n"
     ]
    },
    {
     "name": "stderr",
     "output_type": "stream",
     "text": [
      "Bootstrapping:  96%|█████████▌| 959/1000 [00:42<00:01, 36.53it/s]"
     ]
    },
    {
     "name": "stdout",
     "output_type": "stream",
     "text": [
      "10 20 19\n",
      "10 20 19\n",
      "9 21 20\n",
      "14 16 15\n",
      "9 21 20\n",
      "14 16 15\n",
      "13 17 16\n",
      "10 20 19\n",
      "12 18 17\n",
      "12 18 17\n"
     ]
    },
    {
     "name": "stderr",
     "output_type": "stream",
     "text": [
      "Bootstrapping:  97%|█████████▋| 967/1000 [00:43<00:01, 32.47it/s]"
     ]
    },
    {
     "name": "stdout",
     "output_type": "stream",
     "text": [
      "9 21 20\n",
      "13 17 16\n",
      "9 21 20\n",
      "17 13 12\n",
      "13 17 16\n",
      "16 14 13\n",
      "9 21 20\n"
     ]
    },
    {
     "name": "stderr",
     "output_type": "stream",
     "text": [
      "Bootstrapping:  98%|█████████▊| 975/1000 [00:43<00:00, 31.18it/s]"
     ]
    },
    {
     "name": "stdout",
     "output_type": "stream",
     "text": [
      "11 19 18\n",
      "13 17 16\n",
      "13 17 16\n",
      "16 14 13\n",
      "11 19 18\n",
      "11 19 18\n"
     ]
    },
    {
     "name": "stderr",
     "output_type": "stream",
     "text": [
      "Bootstrapping:  98%|█████████▊| 983/1000 [00:43<00:00, 29.52it/s]"
     ]
    },
    {
     "name": "stdout",
     "output_type": "stream",
     "text": [
      "18 12 11\n",
      "10 20 19\n",
      "10 20 19\n",
      "12 18 17\n",
      "13 17 16\n",
      "10 20 19\n",
      "12 18 17\n",
      "14 16 15\n",
      "14 16 15\n"
     ]
    },
    {
     "name": "stderr",
     "output_type": "stream",
     "text": [
      "Bootstrapping:  99%|█████████▊| 987/1000 [00:43<00:00, 29.50it/s]"
     ]
    },
    {
     "name": "stdout",
     "output_type": "stream",
     "text": [
      "15 15 14\n",
      "14 16 15\n",
      "12 18 17\n",
      "10 20 19\n",
      "13 17 16\n"
     ]
    },
    {
     "name": "stderr",
     "output_type": "stream",
     "text": [
      "Bootstrapping: 100%|█████████▉| 999/1000 [00:44<00:00, 31.28it/s]"
     ]
    },
    {
     "name": "stdout",
     "output_type": "stream",
     "text": [
      "13 17 16\n",
      "15 15 14\n",
      "5 25 24\n",
      "5 25 24\n",
      "11 19 18\n",
      "7 23 22\n",
      "13 17 16\n",
      "11 19 18\n",
      "9 21 20\n"
     ]
    },
    {
     "name": "stderr",
     "output_type": "stream",
     "text": [
      "Bootstrapping: 100%|██████████| 1000/1000 [00:44<00:00, 22.63it/s]"
     ]
    },
    {
     "name": "stdout",
     "output_type": "stream",
     "text": [
      "11 19 18\n",
      "{'Precision_CI': array([0.24137931, 0.55172414]), 'Recall_CI': array([0.23333333, 0.53333333]), 'F1-score_CI': array([0.23728814, 0.54237288]), 'AP50_CI': array([0.0049505 , 0.14433757]), 'AP75_CI': array([0., 0.]), 'AP50-95_CI': array([0.001187  , 0.04337107])}\n",
      "Precision_CI: [0.24137931 0.55172414]\n",
      "Recall_CI: [0.23333333 0.53333333]\n",
      "F1-score_CI: [0.23728814 0.54237288]\n",
      "AP50_CI: [0.0049505  0.14433757]\n",
      "AP75_CI: [0. 0.]\n",
      "AP50-95_CI: [0.001187   0.04337107]\n"
     ]
    },
    {
     "name": "stderr",
     "output_type": "stream",
     "text": [
      "\n"
     ]
    }
   ],
   "source": [
    "def bootstrap_confidence_intervals(true_segments, pred_segments, iou_threshold=iou_global,\n",
    "                                  n_bootstrap=1000, confidence_level=0.95):\n",
    "    # Модифицируем для новых метрик\n",
    "    n_true = len(true_segments)\n",
    "    n_pred = len(pred_segments)\n",
    "    \n",
    "    metrics_samples = {\n",
    "        'Precision': [],\n",
    "        'Recall': [],\n",
    "        'F1-score': [],\n",
    "        'AP50': [],\n",
    "        'AP75': [],\n",
    "        'AP50-95': []\n",
    "    }\n",
    "    \n",
    "    for _ in tqdm(range(n_bootstrap), desc=\"Bootstrapping\"):\n",
    "        true_bootstrap = [true_segments[i] for i in np.random.choice(n_true, n_true, replace=True)]\n",
    "        pred_bootstrap = [pred_segments[i] for i in np.random.choice(n_pred, n_pred, replace=True)]\n",
    "        \n",
    "        metrics = evaluate_metrics(true_bootstrap, pred_bootstrap, iou_threshold)\n",
    "        for k in metrics_samples:\n",
    "            metrics_samples[k].append(metrics[k])\n",
    "    \n",
    "    # Вычисление квантилей для всех метрик\n",
    "    alpha = (1 - confidence_level) / 2\n",
    "    ci = {}\n",
    "    \n",
    "    for metric, samples in metrics_samples.items():\n",
    "        ci[metric + \"_CI\"] = np.percentile(samples, [alpha*100, (1-alpha)*100])\n",
    "    \n",
    "    return ci\n",
    "\n",
    "bootstrap = bootstrap_confidence_intervals(true_intervals, predicted_intervals)\n",
    "print(bootstrap)\n",
    "for metric in bootstrap:\n",
    "    print(f\"{metric}: {bootstrap[metric]}\")"
   ]
  }
 ],
 "metadata": {
  "kernelspec": {
   "display_name": "Python 3",
   "language": "python",
   "name": "python3"
  },
  "language_info": {
   "codemirror_mode": {
    "name": "ipython",
    "version": 3
   },
   "file_extension": ".py",
   "mimetype": "text/x-python",
   "name": "python",
   "nbconvert_exporter": "python",
   "pygments_lexer": "ipython3",
   "version": "3.10.6"
  }
 },
 "nbformat": 4,
 "nbformat_minor": 2
}
